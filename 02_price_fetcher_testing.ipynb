{
 "cells": [
  {
   "cell_type": "code",
   "execution_count": null,
   "id": "7cf35c40-8bb3-40fa-b649-b0487bc48cf9",
   "metadata": {},
   "outputs": [],
   "source": [
    "from PriceFetcher import PriceFetcher"
   ]
  },
  {
   "cell_type": "code",
   "execution_count": null,
   "id": "263ba11a-7fe0-463d-a7f9-797abd2cd89c",
   "metadata": {},
   "outputs": [],
   "source": [
    "pf = PriceFetcher(assets=[\"SPY\", \"AGG\"])"
   ]
  },
  {
   "cell_type": "code",
   "execution_count": null,
   "id": "51266535-3c06-48ea-980f-72141167f26e",
   "metadata": {},
   "outputs": [
    {
     "name": "stderr",
     "output_type": "stream",
     "text": [
      "[*********************100%***********************]  2 of 2 completed\n"
     ]
    }
   ],
   "source": [
    "pf.fetch()"
   ]
  },
  {
   "cell_type": "code",
   "execution_count": null,
   "id": "e1d336ac-a9f5-4ad2-bb34-918e1b933d77",
   "metadata": {},
   "outputs": [
    {
     "data": {
      "text/html": [
       "<div>\n",
       "<style scoped>\n",
       "    .dataframe tbody tr th:only-of-type {\n",
       "        vertical-align: middle;\n",
       "    }\n",
       "\n",
       "    .dataframe tbody tr th {\n",
       "        vertical-align: top;\n",
       "    }\n",
       "\n",
       "    .dataframe thead th {\n",
       "        text-align: right;\n",
       "    }\n",
       "</style>\n",
       "<table border=\"1\" class=\"dataframe\">\n",
       "  <thead>\n",
       "    <tr style=\"text-align: right;\">\n",
       "      <th></th>\n",
       "      <th>date</th>\n",
       "      <th>agg</th>\n",
       "      <th>spy</th>\n",
       "    </tr>\n",
       "  </thead>\n",
       "  <tbody>\n",
       "    <tr>\n",
       "      <th>0</th>\n",
       "      <td>1993-01-29</td>\n",
       "      <td>NaN</td>\n",
       "      <td>24.526073</td>\n",
       "    </tr>\n",
       "    <tr>\n",
       "      <th>1</th>\n",
       "      <td>1993-02-01</td>\n",
       "      <td>NaN</td>\n",
       "      <td>24.700520</td>\n",
       "    </tr>\n",
       "    <tr>\n",
       "      <th>2</th>\n",
       "      <td>1993-02-02</td>\n",
       "      <td>NaN</td>\n",
       "      <td>24.752834</td>\n",
       "    </tr>\n",
       "    <tr>\n",
       "      <th>3</th>\n",
       "      <td>1993-02-03</td>\n",
       "      <td>NaN</td>\n",
       "      <td>25.014505</td>\n",
       "    </tr>\n",
       "    <tr>\n",
       "      <th>4</th>\n",
       "      <td>1993-02-04</td>\n",
       "      <td>NaN</td>\n",
       "      <td>25.119177</td>\n",
       "    </tr>\n",
       "    <tr>\n",
       "      <th>...</th>\n",
       "      <td>...</td>\n",
       "      <td>...</td>\n",
       "      <td>...</td>\n",
       "    </tr>\n",
       "    <tr>\n",
       "      <th>8065</th>\n",
       "      <td>2025-02-12</td>\n",
       "      <td>96.760002</td>\n",
       "      <td>603.359985</td>\n",
       "    </tr>\n",
       "    <tr>\n",
       "      <th>8066</th>\n",
       "      <td>2025-02-13</td>\n",
       "      <td>97.339996</td>\n",
       "      <td>609.729980</td>\n",
       "    </tr>\n",
       "    <tr>\n",
       "      <th>8067</th>\n",
       "      <td>2025-02-14</td>\n",
       "      <td>97.699997</td>\n",
       "      <td>609.700012</td>\n",
       "    </tr>\n",
       "    <tr>\n",
       "      <th>8068</th>\n",
       "      <td>2025-02-18</td>\n",
       "      <td>97.309998</td>\n",
       "      <td>611.489990</td>\n",
       "    </tr>\n",
       "    <tr>\n",
       "      <th>8069</th>\n",
       "      <td>2025-02-19</td>\n",
       "      <td>97.449997</td>\n",
       "      <td>612.760010</td>\n",
       "    </tr>\n",
       "  </tbody>\n",
       "</table>\n",
       "<p>8070 rows × 3 columns</p>\n",
       "</div>"
      ],
      "text/plain": [
       "            date        agg         spy\n",
       "0     1993-01-29        NaN   24.526073\n",
       "1     1993-02-01        NaN   24.700520\n",
       "2     1993-02-02        NaN   24.752834\n",
       "3     1993-02-03        NaN   25.014505\n",
       "4     1993-02-04        NaN   25.119177\n",
       "...          ...        ...         ...\n",
       "8065  2025-02-12  96.760002  603.359985\n",
       "8066  2025-02-13  97.339996  609.729980\n",
       "8067  2025-02-14  97.699997  609.700012\n",
       "8068  2025-02-18  97.309998  611.489990\n",
       "8069  2025-02-19  97.449997  612.760010\n",
       "\n",
       "[8070 rows x 3 columns]"
      ]
     },
     "execution_count": null,
     "metadata": {},
     "output_type": "execute_result"
    }
   ],
   "source": [
    "pf.prices"
   ]
  },
  {
   "cell_type": "code",
   "execution_count": null,
   "id": "f7bb8d0f-4a50-4530-8d07-cf1e154acff6",
   "metadata": {},
   "outputs": [
    {
     "name": "stdout",
     "output_type": "stream",
     "text": [
      "2003-09-29\n",
      "2025-02-19\n"
     ]
    }
   ],
   "source": [
    "print(pf.date_min)\n",
    "print(pf.date_max)"
   ]
  },
  {
   "cell_type": "code",
   "execution_count": null,
   "id": "9245a54b-fde4-4a45-956d-0cd461d98e11",
   "metadata": {},
   "outputs": [
    {
     "data": {
      "text/plain": [
       "['spy', 'agg']"
      ]
     },
     "execution_count": null,
     "metadata": {},
     "output_type": "execute_result"
    }
   ],
   "source": [
    "pf.assets"
   ]
  },
  {
   "cell_type": "code",
   "execution_count": null,
   "id": "269715e6-1d67-4b89-a8e8-4035599ad6e7",
   "metadata": {},
   "outputs": [],
   "source": []
  }
 ],
 "metadata": {
  "kernelspec": {
   "display_name": "python3",
   "language": "python",
   "name": "python3"
  }
 },
 "nbformat": 4,
 "nbformat_minor": 5
}
