{
 "cells": [
  {
   "cell_type": "code",
   "execution_count": null,
   "id": "fa858c2d-5ce8-4774-ab6a-6d61bdb93951",
   "metadata": {},
   "outputs": [],
   "source": [
    "import numpy as np\n",
    "import pandas as pd\n",
    "import yfinance as yf\n",
    "import datetime"
   ]
  },
  {
   "cell_type": "code",
   "execution_count": null,
   "id": "b1d7d467-0f36-4a77-b417-dc5ceb19fc59",
   "metadata": {},
   "outputs": [
    {
     "data": {
      "text/plain": [
       "datetime.date(2025, 2, 18)"
      ]
     },
     "execution_count": null,
     "metadata": {},
     "output_type": "execute_result"
    }
   ],
   "source": [
    "datetime.date.today()"
   ]
  },
  {
   "cell_type": "code",
   "execution_count": null,
   "id": "9a47ab46-f86f-443f-aaa4-33d88e3a48fb",
   "metadata": {},
   "outputs": [
    {
     "name": "stderr",
     "output_type": "stream",
     "text": [
      "[*********************100%***********************]  1 of 1 completed\n"
     ]
    },
    {
     "data": {
      "text/html": [
       "<div>\n",
       "<style scoped>\n",
       "    .dataframe tbody tr th:only-of-type {\n",
       "        vertical-align: middle;\n",
       "    }\n",
       "\n",
       "    .dataframe tbody tr th {\n",
       "        vertical-align: top;\n",
       "    }\n",
       "\n",
       "    .dataframe thead th {\n",
       "        text-align: right;\n",
       "    }\n",
       "</style>\n",
       "<table border=\"1\" class=\"dataframe\">\n",
       "  <thead>\n",
       "    <tr style=\"text-align: right;\">\n",
       "      <th>Ticker</th>\n",
       "      <th>date</th>\n",
       "      <th>spy</th>\n",
       "    </tr>\n",
       "  </thead>\n",
       "  <tbody>\n",
       "    <tr>\n",
       "      <th>0</th>\n",
       "      <td>1993-01-29</td>\n",
       "      <td>24.526066</td>\n",
       "    </tr>\n",
       "    <tr>\n",
       "      <th>1</th>\n",
       "      <td>1993-02-01</td>\n",
       "      <td>24.700512</td>\n",
       "    </tr>\n",
       "    <tr>\n",
       "      <th>2</th>\n",
       "      <td>1993-02-02</td>\n",
       "      <td>24.752846</td>\n",
       "    </tr>\n",
       "    <tr>\n",
       "      <th>3</th>\n",
       "      <td>1993-02-03</td>\n",
       "      <td>25.014507</td>\n",
       "    </tr>\n",
       "    <tr>\n",
       "      <th>4</th>\n",
       "      <td>1993-02-04</td>\n",
       "      <td>25.119179</td>\n",
       "    </tr>\n",
       "    <tr>\n",
       "      <th>...</th>\n",
       "      <td>...</td>\n",
       "      <td>...</td>\n",
       "    </tr>\n",
       "    <tr>\n",
       "      <th>8063</th>\n",
       "      <td>2025-02-10</td>\n",
       "      <td>604.849976</td>\n",
       "    </tr>\n",
       "    <tr>\n",
       "      <th>8064</th>\n",
       "      <td>2025-02-11</td>\n",
       "      <td>605.309998</td>\n",
       "    </tr>\n",
       "    <tr>\n",
       "      <th>8065</th>\n",
       "      <td>2025-02-12</td>\n",
       "      <td>603.359985</td>\n",
       "    </tr>\n",
       "    <tr>\n",
       "      <th>8066</th>\n",
       "      <td>2025-02-13</td>\n",
       "      <td>609.729980</td>\n",
       "    </tr>\n",
       "    <tr>\n",
       "      <th>8067</th>\n",
       "      <td>2025-02-14</td>\n",
       "      <td>609.700012</td>\n",
       "    </tr>\n",
       "  </tbody>\n",
       "</table>\n",
       "<p>8068 rows × 2 columns</p>\n",
       "</div>"
      ],
      "text/plain": [
       "Ticker        date         spy\n",
       "0       1993-01-29   24.526066\n",
       "1       1993-02-01   24.700512\n",
       "2       1993-02-02   24.752846\n",
       "3       1993-02-03   25.014507\n",
       "4       1993-02-04   25.119179\n",
       "...            ...         ...\n",
       "8063    2025-02-10  604.849976\n",
       "8064    2025-02-11  605.309998\n",
       "8065    2025-02-12  603.359985\n",
       "8066    2025-02-13  609.729980\n",
       "8067    2025-02-14  609.700012\n",
       "\n",
       "[8068 rows x 2 columns]"
      ]
     },
     "execution_count": null,
     "metadata": {},
     "output_type": "execute_result"
    }
   ],
   "source": [
    "df = yf.download([\"SPY\"], start=\"1900-01-01\", end=datetime.date.today(), auto_adjust=False)\n",
    "df = df[\"Adj Close\"].reset_index()\n",
    "df[\"Date\"] = df[\"Date\"].dt.date\n",
    "df.columns = df.columns.str.lower()\n",
    "df"
   ]
  },
  {
   "cell_type": "code",
   "execution_count": null,
   "id": "b7d48f46-0dda-4a98-a57c-23609a2230da",
   "metadata": {},
   "outputs": [],
   "source": [
    "class PriceFetcher:\n",
    "    def __init__(self, tickers):\n",
    "        self.tickers = tickers\n",
    "\n",
    "    prices = None\n",
    "    \n",
    "    def fetch_data(self):\n",
    "        self.prices = yf.download(self.tickers, start=\"1900-01-01\", end=datetime.date.today(), auto_adjust=False)\n",
    "        self.prices = self.prices[\"Adj Close\"].reset_index()\n",
    "        self.prices[\"Date\"] = self.prices[\"Date\"].dt.date\n",
    "        self.prices.columns = self.prices.columns.str.lower()\n",
    "        return(None)"
   ]
  },
  {
   "cell_type": "code",
   "execution_count": null,
   "id": "ebd381bf-4bc9-4e00-8454-68ee084bf514",
   "metadata": {},
   "outputs": [],
   "source": [
    "pf = PriceFetcher([\"SPY\", \"AGG\"])"
   ]
  },
  {
   "cell_type": "code",
   "execution_count": null,
   "id": "bc10bf33-0b98-48c6-8b74-c9a9f2850ed4",
   "metadata": {},
   "outputs": [
    {
     "name": "stderr",
     "output_type": "stream",
     "text": [
      "[*********************100%***********************]  2 of 2 completed\n"
     ]
    }
   ],
   "source": [
    "pf.fetch_data()"
   ]
  },
  {
   "cell_type": "code",
   "execution_count": null,
   "id": "bf71d4d0-48c9-48b4-a4ab-210275216a6c",
   "metadata": {},
   "outputs": [
    {
     "data": {
      "text/html": [
       "<div>\n",
       "<style scoped>\n",
       "    .dataframe tbody tr th:only-of-type {\n",
       "        vertical-align: middle;\n",
       "    }\n",
       "\n",
       "    .dataframe tbody tr th {\n",
       "        vertical-align: top;\n",
       "    }\n",
       "\n",
       "    .dataframe thead th {\n",
       "        text-align: right;\n",
       "    }\n",
       "</style>\n",
       "<table border=\"1\" class=\"dataframe\">\n",
       "  <thead>\n",
       "    <tr style=\"text-align: right;\">\n",
       "      <th>Ticker</th>\n",
       "      <th>date</th>\n",
       "      <th>agg</th>\n",
       "      <th>spy</th>\n",
       "    </tr>\n",
       "  </thead>\n",
       "  <tbody>\n",
       "    <tr>\n",
       "      <th>0</th>\n",
       "      <td>1993-01-29</td>\n",
       "      <td>NaN</td>\n",
       "      <td>24.526066</td>\n",
       "    </tr>\n",
       "    <tr>\n",
       "      <th>1</th>\n",
       "      <td>1993-02-01</td>\n",
       "      <td>NaN</td>\n",
       "      <td>24.700512</td>\n",
       "    </tr>\n",
       "    <tr>\n",
       "      <th>2</th>\n",
       "      <td>1993-02-02</td>\n",
       "      <td>NaN</td>\n",
       "      <td>24.752846</td>\n",
       "    </tr>\n",
       "    <tr>\n",
       "      <th>3</th>\n",
       "      <td>1993-02-03</td>\n",
       "      <td>NaN</td>\n",
       "      <td>25.014507</td>\n",
       "    </tr>\n",
       "    <tr>\n",
       "      <th>4</th>\n",
       "      <td>1993-02-04</td>\n",
       "      <td>NaN</td>\n",
       "      <td>25.119179</td>\n",
       "    </tr>\n",
       "    <tr>\n",
       "      <th>...</th>\n",
       "      <td>...</td>\n",
       "      <td>...</td>\n",
       "      <td>...</td>\n",
       "    </tr>\n",
       "    <tr>\n",
       "      <th>8063</th>\n",
       "      <td>2025-02-10</td>\n",
       "      <td>97.489998</td>\n",
       "      <td>604.849976</td>\n",
       "    </tr>\n",
       "    <tr>\n",
       "      <th>8064</th>\n",
       "      <td>2025-02-11</td>\n",
       "      <td>97.269997</td>\n",
       "      <td>605.309998</td>\n",
       "    </tr>\n",
       "    <tr>\n",
       "      <th>8065</th>\n",
       "      <td>2025-02-12</td>\n",
       "      <td>96.760002</td>\n",
       "      <td>603.359985</td>\n",
       "    </tr>\n",
       "    <tr>\n",
       "      <th>8066</th>\n",
       "      <td>2025-02-13</td>\n",
       "      <td>97.339996</td>\n",
       "      <td>609.729980</td>\n",
       "    </tr>\n",
       "    <tr>\n",
       "      <th>8067</th>\n",
       "      <td>2025-02-14</td>\n",
       "      <td>97.699997</td>\n",
       "      <td>609.700012</td>\n",
       "    </tr>\n",
       "  </tbody>\n",
       "</table>\n",
       "<p>8068 rows × 3 columns</p>\n",
       "</div>"
      ],
      "text/plain": [
       "Ticker        date        agg         spy\n",
       "0       1993-01-29        NaN   24.526066\n",
       "1       1993-02-01        NaN   24.700512\n",
       "2       1993-02-02        NaN   24.752846\n",
       "3       1993-02-03        NaN   25.014507\n",
       "4       1993-02-04        NaN   25.119179\n",
       "...            ...        ...         ...\n",
       "8063    2025-02-10  97.489998  604.849976\n",
       "8064    2025-02-11  97.269997  605.309998\n",
       "8065    2025-02-12  96.760002  603.359985\n",
       "8066    2025-02-13  97.339996  609.729980\n",
       "8067    2025-02-14  97.699997  609.700012\n",
       "\n",
       "[8068 rows x 3 columns]"
      ]
     },
     "execution_count": null,
     "metadata": {},
     "output_type": "execute_result"
    }
   ],
   "source": [
    "pf.prices"
   ]
  },
  {
   "cell_type": "code",
   "execution_count": null,
   "id": "dfa22a9b-db5d-4a09-bd84-0d6ef330095a",
   "metadata": {},
   "outputs": [],
   "source": []
  }
 ],
 "metadata": {
  "kernelspec": {
   "display_name": "python3",
   "language": "python",
   "name": "python3"
  }
 },
 "nbformat": 4,
 "nbformat_minor": 5
}
